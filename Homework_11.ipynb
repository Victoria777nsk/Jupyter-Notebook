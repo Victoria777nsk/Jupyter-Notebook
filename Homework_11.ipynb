{
 "cells": [
  {
   "cell_type": "markdown",
   "id": "130e7afb",
   "metadata": {},
   "source": [
    "### f(x) = x^3 - 6x^2 + 4x + 12\n",
    "\n",
    "1. Определить корни\n",
    "2. Найти интервалы, на которых функция возрастает\n",
    "3. Найти интервалы, на которых функция убывает\n",
    "4. Построить график\n",
    "5. Вычислить вершину\n",
    "6. Определить промежутки, на котором f > 0\n",
    "7. Определить промежутки, на котором f < 0"
   ]
  },
  {
   "cell_type": "code",
   "execution_count": 1,
   "id": "ac9b5800",
   "metadata": {},
   "outputs": [],
   "source": [
    "import numpy as np\n",
    "import matplotlib.pyplot as plt"
   ]
  },
  {
   "cell_type": "markdown",
   "id": "afa05f53",
   "metadata": {},
   "source": [
    "##### Определяем корни:"
   ]
  },
  {
   "cell_type": "code",
   "execution_count": 2,
   "id": "7ab8be02",
   "metadata": {},
   "outputs": [
    {
     "data": {
      "text/plain": [
       "array([ 4.5340702 ,  2.51730405, -1.05137424])"
      ]
     },
     "execution_count": 2,
     "metadata": {},
     "output_type": "execute_result"
    }
   ],
   "source": [
    "np.roots([1, -6, 4, 12])"
   ]
  },
  {
   "cell_type": "markdown",
   "id": "186927db",
   "metadata": {},
   "source": [
    "##### Строим график:"
   ]
  },
  {
   "cell_type": "code",
   "execution_count": 3,
   "id": "1e9f31c4",
   "metadata": {},
   "outputs": [],
   "source": [
    "z = list(range(-10, 10))\n",
    "fz = [x ** 3 - 6 * x ** 2 + 4 * x + 12 for x in z]"
   ]
  },
  {
   "cell_type": "code",
   "execution_count": 4,
   "id": "4fd2a93b",
   "metadata": {},
   "outputs": [
    {
     "data": {
      "image/png": "[encoded data removed]",
      "text/plain": [
       "<Figure size 640x480 with 1 Axes>"
      ]
     },
     "metadata": {},
     "output_type": "display_data"
    }
   ],
   "source": [
    "plt.axes(fc = 'lightyellow')\n",
    "plt.plot(z, fz)\n",
    "plt.show()"
   ]
  },
  {
   "cell_type": "markdown",
   "id": "3504e971",
   "metadata": {},
   "source": [
    "##### Вычисляем вершину:"
   ]
  },
  {
   "cell_type": "code",
   "execution_count": 5,
   "id": "20d8946d",
   "metadata": {},
   "outputs": [
    {
     "data": {
      "text/plain": [
       "array([  3, -12,   4])"
      ]
     },
     "execution_count": 5,
     "metadata": {},
     "output_type": "execute_result"
    }
   ],
   "source": [
    "y = [1, -6, 4, 12]\n",
    "np.polyder(y)"
   ]
  },
  {
   "cell_type": "code",
   "execution_count": 6,
   "id": "d6539176",
   "metadata": {},
   "outputs": [
    {
     "data": {
      "text/plain": [
       "array([3.63299316, 0.36700684])"
      ]
     },
     "execution_count": 6,
     "metadata": {},
     "output_type": "execute_result"
    }
   ],
   "source": [
    "np.roots(np.polyder([1, -6, 4, 12]))"
   ]
  },
  {
   "cell_type": "code",
   "execution_count": 7,
   "id": "e7bcd9b6",
   "metadata": {},
   "outputs": [
    {
     "data": {
      "text/plain": [
       "(3.6329931618554525, 0.3670068381445479)"
      ]
     },
     "execution_count": 7,
     "metadata": {},
     "output_type": "execute_result"
    }
   ],
   "source": [
    "minimum = np.roots(np.polyder([1, -6, 4, 12]))[0]\n",
    "maximum = np.roots(np.polyder([1, -6, 4, 12]))[1]\n",
    "minimum, maximum"
   ]
  },
  {
   "cell_type": "code",
   "execution_count": 8,
   "id": "5442bb6a",
   "metadata": {},
   "outputs": [
    {
     "data": {
      "text/plain": [
       "-4.709296863229078"
      ]
     },
     "execution_count": 8,
     "metadata": {},
     "output_type": "execute_result"
    }
   ],
   "source": [
    "y_min = np.polyval([1, -6, 4, 12], minimum)\n",
    "y_min"
   ]
  },
  {
   "cell_type": "code",
   "execution_count": 9,
   "id": "732463ce",
   "metadata": {},
   "outputs": [
    {
     "data": {
      "text/plain": [
       "12.709296863229078"
      ]
     },
     "execution_count": 9,
     "metadata": {},
     "output_type": "execute_result"
    }
   ],
   "source": [
    "y_max = np.polyval([1, -6, 4, 12], maximum)\n",
    "y_max"
   ]
  },
  {
   "cell_type": "code",
   "execution_count": 10,
   "id": "edc982bd",
   "metadata": {},
   "outputs": [
    {
     "name": "stdout",
     "output_type": "stream",
     "text": [
      "Точка максимума: (0.3670068381445479, 12.709296863229078)\n",
      "Точка минимума: (3.6329931618554525, -4.709296863229078)\n"
     ]
    }
   ],
   "source": [
    "print(f'Точка максимума: {maximum, y_max}')\n",
    "print(f'Точка минимума: {minimum, y_min}')"
   ]
  },
  {
   "cell_type": "markdown",
   "id": "a83730ee",
   "metadata": {},
   "source": [
    "##### Находим интервалы, на которых функция возрастает и убывает:"
   ]
  },
  {
   "cell_type": "code",
   "execution_count": 11,
   "id": "fef61b9f",
   "metadata": {},
   "outputs": [
    {
     "name": "stdout",
     "output_type": "stream",
     "text": [
      "Функция возрастает на: [-∞; (0.3670068381445479, 12.709296863229078)] & [(3.6329931618554525, -4.709296863229078); +∞]\n",
      "Функция убывает на: [(0.3670068381445479, 12.709296863229078); (3.6329931618554525, -4.709296863229078)]\n"
     ]
    }
   ],
   "source": [
    "print(f'Функция возрастает на: [-∞; {maximum, y_max}] & [{minimum, y_min}; +∞]')\n",
    "print(f'Функция убывает на: [{maximum, y_max}; {minimum, y_min}]')"
   ]
  },
  {
   "cell_type": "markdown",
   "id": "12ee742b",
   "metadata": {},
   "source": [
    "##### Определяем промежутки, на которых f > 0 и f < 0:"
   ]
  },
  {
   "cell_type": "code",
   "execution_count": 12,
   "id": "9d4127f3",
   "metadata": {},
   "outputs": [],
   "source": [
    "root1, root2, root3 = np.roots([1, -6, 4, 12])"
   ]
  },
  {
   "cell_type": "code",
   "execution_count": 13,
   "id": "c0b8c9a8",
   "metadata": {},
   "outputs": [
    {
     "name": "stdout",
     "output_type": "stream",
     "text": [
      "f > 0: [-∞; -1.05] & [2.52; 4.53]\n",
      "f < 0: [-1.05; 2.52] & [4.53; +∞]\n"
     ]
    }
   ],
   "source": [
    "print(f'f > 0: [-∞; {round(root3, 2)}] & [{round(root2, 2)}; {round(root1, 2)}]')\n",
    "print(f'f < 0: [{round(root3, 2)}; {round(root2, 2)}] & [{round(root1, 2)}; +∞]')"
   ]
  }
 ],
 "metadata": {
  "kernelspec": {
   "display_name": "Python 3 (ipykernel)",
   "language": "python",
   "name": "python3"
  },
  "language_info": {
   "codemirror_mode": {
    "name": "ipython",
    "version": 3
   },
   "file_extension": ".py",
   "mimetype": "text/x-python",
   "name": "python",
   "nbconvert_exporter": "python",
   "pygments_lexer": "ipython3",
   "version": "3.9.13"
  }
 },
 "nbformat": 4,
 "nbformat_minor": 5
}
